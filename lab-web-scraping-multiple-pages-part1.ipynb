{
 "cells": [
  {
   "cell_type": "markdown",
   "id": "67a880ad",
   "metadata": {},
   "source": [
    "# Lab | Web Scraping Multiple Pages\n",
    "\n",
    "#### Business goal:\n",
    "1. Check the case_study_gnod.md file.\n",
    "\n",
    "2. Make sure you've understood the big picture of your project:\n",
    "- the goal of the company (Gnod),\n",
    "- their current product (Gnoosic),\n",
    "- their strategy, and\n",
    "- how your project fits into this context.\n",
    "\n",
    "Re-read the business case and the e-mail from the CTO, take a look at the flowchart and create an initial Trello board with the tasks you think you'll have to accomplish.\n",
    "\n",
    "### Instructions Part 1\n",
    "#### Prioritize the MVP (Minimum Viable Product)\n",
    "In the previous lab, you had to scrape data about \"hot songs\". It's critical to be on track with that part, as it was part of the request from the CTO.\n",
    "\n",
    "If you couldn't finish the first lab, use this time to go back there.\n",
    "\n",
    "#### Expand the project\n",
    "If you're done, you can try to expand the project on your own. Here are a few suggestions:\n",
    "\n",
    "- Find other lists of hot songs on the internet and scrape them too: having a bigger pool of songs will be awesome!\n",
    "- Apply the same logic to other \"groups\" of songs: the best songs from a decade or from a country / culture / language / genre.\n",
    "- Wikipedia maintains a large collection of lists of songs: https://en.wikipedia.org/wiki/Lists_of_songs"
   ]
  },
  {
   "cell_type": "markdown",
   "id": "e08d3236",
   "metadata": {},
   "source": [
    "# Part 1: Scrape Data about \"Hot Songs\""
   ]
  },
  {
   "cell_type": "markdown",
   "id": "3b3b4a64",
   "metadata": {},
   "source": [
    "## 1. Find other lists of hot songs on the internet and scrape them too"
   ]
  },
  {
   "cell_type": "markdown",
   "id": "95ef3dfa",
   "metadata": {},
   "source": [
    "### First, we scrape a list of current popular songs from a website. \n",
    "\n",
    "### Billboard top 100 songs:"
   ]
  },
  {
   "cell_type": "code",
   "execution_count": 1,
   "id": "4bdc9ce4",
   "metadata": {},
   "outputs": [],
   "source": [
    "# Import Libraries\n",
    "import requests\n",
    "from bs4 import BeautifulSoup\n",
    "import pandas as pd"
   ]
  },
  {
   "cell_type": "code",
   "execution_count": 2,
   "id": "7a782d14",
   "metadata": {},
   "outputs": [],
   "source": [
    "# Define the URL for the Billboard hot songs\n",
    "url = 'https://www.billboard.com/charts/hot-100'"
   ]
  },
  {
   "cell_type": "code",
   "execution_count": 3,
   "id": "2cc1b88d",
   "metadata": {},
   "outputs": [],
   "source": [
    "# Send a GET request to the URL\n",
    "response = requests.get(url)"
   ]
  },
  {
   "cell_type": "code",
   "execution_count": 4,
   "id": "83b6716c",
   "metadata": {},
   "outputs": [],
   "source": [
    "# Parse the HTML content\n",
    "soup = BeautifulSoup(response.content, 'html.parser')\n",
    "\n",
    "# Find all the containers for song entries\n",
    "song_entries = soup.find_all('li', class_='o-chart-results-list__item')\n",
    "\n",
    "# Extract song titles and artist names\n",
    "songs_and_artists = []\n",
    "\n",
    "for position, entry in enumerate(song_entries, start=1):  # Start position at 1\n",
    "    # Find the song title element\n",
    "    title_element = entry.find('h3', class_='c-title')\n",
    "    title = title_element.get_text().strip() if title_element else 'Unknown Title'\n",
    "    \n",
    "    # Find the artist name element\n",
    "    artist_element = entry.find('span', class_='c-label')\n",
    "    artist = artist_element.get_text().strip() if artist_element else 'Unknown Artist'\n",
    "    \n",
    "    # Append to list if both title and artist are found\n",
    "    if title != 'Unknown Title' and artist != 'Unknown Artist':\n",
    "        songs_and_artists.append((title, artist))\n",
    "\n",
    "# Check if we found any titles and artists\n",
    "if songs_and_artists:\n",
    "    # Convert list of tuples to DataFrame\n",
    "    hot_songs_df = pd.DataFrame(songs_and_artists, columns=['Song', 'Artist'])\n",
    "\n",
    "    # Add the \"Position\" column with positions starting from 1\n",
    "    hot_songs_df['Position'] = range(1, len(hot_songs_df) + 1)\n",
    "\n",
    "    # Limit the DataFrame to the top 100 songs\n",
    "    hot_songs_df = hot_songs_df.head(100)\n",
    "else:\n",
    "    print(\"No song titles or artist names could be found.\")"
   ]
  },
  {
   "cell_type": "code",
   "execution_count": 5,
   "id": "8cf659b2",
   "metadata": {},
   "outputs": [
    {
     "data": {
      "text/html": [
       "<div>\n",
       "<style scoped>\n",
       "    .dataframe tbody tr th:only-of-type {\n",
       "        vertical-align: middle;\n",
       "    }\n",
       "\n",
       "    .dataframe tbody tr th {\n",
       "        vertical-align: top;\n",
       "    }\n",
       "\n",
       "    .dataframe thead th {\n",
       "        text-align: right;\n",
       "    }\n",
       "</style>\n",
       "<table border=\"1\" class=\"dataframe\">\n",
       "  <thead>\n",
       "    <tr style=\"text-align: right;\">\n",
       "      <th></th>\n",
       "      <th>Song</th>\n",
       "      <th>Artist</th>\n",
       "      <th>Position</th>\n",
       "    </tr>\n",
       "  </thead>\n",
       "  <tbody>\n",
       "    <tr>\n",
       "      <th>0</th>\n",
       "      <td>Cruel Summer</td>\n",
       "      <td>Taylor Swift</td>\n",
       "      <td>1</td>\n",
       "    </tr>\n",
       "    <tr>\n",
       "      <th>1</th>\n",
       "      <td>Paint The Town Red</td>\n",
       "      <td>Doja Cat</td>\n",
       "      <td>2</td>\n",
       "    </tr>\n",
       "    <tr>\n",
       "      <th>2</th>\n",
       "      <td>Is It Over Now? (Taylor's Version) [From The V...</td>\n",
       "      <td>Taylor Swift</td>\n",
       "      <td>3</td>\n",
       "    </tr>\n",
       "    <tr>\n",
       "      <th>3</th>\n",
       "      <td>Snooze</td>\n",
       "      <td>SZA</td>\n",
       "      <td>4</td>\n",
       "    </tr>\n",
       "    <tr>\n",
       "      <th>4</th>\n",
       "      <td>Standing Next To You</td>\n",
       "      <td>Jung Kook</td>\n",
       "      <td>5</td>\n",
       "    </tr>\n",
       "    <tr>\n",
       "      <th>...</th>\n",
       "      <td>...</td>\n",
       "      <td>...</td>\n",
       "      <td>...</td>\n",
       "    </tr>\n",
       "    <tr>\n",
       "      <th>95</th>\n",
       "      <td>Clean (Taylor's Version)</td>\n",
       "      <td>Taylor Swift</td>\n",
       "      <td>96</td>\n",
       "    </tr>\n",
       "    <tr>\n",
       "      <th>96</th>\n",
       "      <td>Bleed</td>\n",
       "      <td>The Kid LAROI</td>\n",
       "      <td>97</td>\n",
       "    </tr>\n",
       "    <tr>\n",
       "      <th>97</th>\n",
       "      <td>But I Got A Beer In My Hand</td>\n",
       "      <td>Luke Bryan</td>\n",
       "      <td>98</td>\n",
       "    </tr>\n",
       "    <tr>\n",
       "      <th>98</th>\n",
       "      <td>We Don't Fight Anymore</td>\n",
       "      <td>Carly Pearce Featuring Chris Stapleton</td>\n",
       "      <td>99</td>\n",
       "    </tr>\n",
       "    <tr>\n",
       "      <th>99</th>\n",
       "      <td>Sarah's Place</td>\n",
       "      <td>Zach Bryan Featuring Noah Kahan</td>\n",
       "      <td>100</td>\n",
       "    </tr>\n",
       "  </tbody>\n",
       "</table>\n",
       "<p>100 rows × 3 columns</p>\n",
       "</div>"
      ],
      "text/plain": [
       "                                                 Song  \\\n",
       "0                                        Cruel Summer   \n",
       "1                                  Paint The Town Red   \n",
       "2   Is It Over Now? (Taylor's Version) [From The V...   \n",
       "3                                              Snooze   \n",
       "4                                Standing Next To You   \n",
       "..                                                ...   \n",
       "95                           Clean (Taylor's Version)   \n",
       "96                                              Bleed   \n",
       "97                        But I Got A Beer In My Hand   \n",
       "98                             We Don't Fight Anymore   \n",
       "99                                      Sarah's Place   \n",
       "\n",
       "                                    Artist  Position  \n",
       "0                             Taylor Swift         1  \n",
       "1                                 Doja Cat         2  \n",
       "2                             Taylor Swift         3  \n",
       "3                                      SZA         4  \n",
       "4                                Jung Kook         5  \n",
       "..                                     ...       ...  \n",
       "95                            Taylor Swift        96  \n",
       "96                           The Kid LAROI        97  \n",
       "97                              Luke Bryan        98  \n",
       "98  Carly Pearce Featuring Chris Stapleton        99  \n",
       "99         Zach Bryan Featuring Noah Kahan       100  \n",
       "\n",
       "[100 rows x 3 columns]"
      ]
     },
     "execution_count": 5,
     "metadata": {},
     "output_type": "execute_result"
    }
   ],
   "source": [
    "hot_songs_df"
   ]
  },
  {
   "cell_type": "markdown",
   "id": "fe58c9ca",
   "metadata": {},
   "source": [
    "## Saving"
   ]
  },
  {
   "cell_type": "code",
   "execution_count": 6,
   "id": "d5062ec8",
   "metadata": {},
   "outputs": [],
   "source": [
    "hot_songs_df.to_csv('hotsongs_billboard.csv', index = False)"
   ]
  }
 ],
 "metadata": {
  "kernelspec": {
   "display_name": "Python 3 (ipykernel)",
   "language": "python",
   "name": "python3"
  },
  "language_info": {
   "codemirror_mode": {
    "name": "ipython",
    "version": 3
   },
   "file_extension": ".py",
   "mimetype": "text/x-python",
   "name": "python",
   "nbconvert_exporter": "python",
   "pygments_lexer": "ipython3",
   "version": "3.9.18"
  }
 },
 "nbformat": 4,
 "nbformat_minor": 5
}
